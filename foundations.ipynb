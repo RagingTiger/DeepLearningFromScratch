{
 "cells": [
  {
   "cell_type": "markdown",
   "id": "b997b0c0-34cb-47d7-857b-39b9c01b6635",
   "metadata": {},
   "source": [
    "# Chapter 1: Foundations\n",
    "This `JupyterLab` notebook covers the content of *chapter 1* of *Deep Learning from Scratch: Building with Python from First Principles*."
   ]
  },
  {
   "cell_type": "markdown",
   "id": "4e33d269-a7ba-4422-b1bb-f648a9616517",
   "metadata": {},
   "source": [
    "## Setup\n",
    "First *import* necessary libraries and or *data*."
   ]
  },
  {
   "cell_type": "code",
   "execution_count": null,
   "id": "d2c29f26-c02a-44b1-8c56-2ff20f2e319d",
   "metadata": {},
   "outputs": [],
   "source": [
    "# custom libs\n",
    "from packages import foundations"
   ]
  },
  {
   "cell_type": "markdown",
   "id": "470b351f-2ef2-49b4-926d-d4b05aa151d7",
   "metadata": {
    "tags": []
   },
   "source": [
    "## 1.1 - Functions\n",
    "The first section dives into *functions*. First let's create some sample data to test our functions with."
   ]
  },
  {
   "cell_type": "code",
   "execution_count": null,
   "id": "a326eaf9-2b16-4a18-aa21-3fcdbb69fee1",
   "metadata": {},
   "outputs": [],
   "source": [
    "# create sample data\n",
    "fibonacci = foundations.numpy.array([0, 1, 1, 2, 3, 5, 8, 13])"
   ]
  },
  {
   "cell_type": "markdown",
   "id": "e92bbb45-7c9f-4499-aebc-f967971e023e",
   "metadata": {},
   "source": [
    "Now we can try some of the different functions (i.e. *squaring* and *ReLU*). The squaring function is of course:\n",
    "\n",
    "$$\n",
    "f(x) = x^2\n",
    "$$\n",
    "\n",
    "But the [ReLU](https://en.wikipedia.org/wiki/Rectifier_(neural_networks)) is a different beast all together:\n",
    "\n",
    "$$\n",
    "f(x) = \n",
    "\\begin{cases}\n",
    "    x               & \\text{if } x > 0, \\\\\n",
    "    0.02x           & \\text{otherwise}\n",
    "\\end{cases}\n",
    "$$"
   ]
  },
  {
   "cell_type": "code",
   "execution_count": null,
   "id": "b70330de-473a-4db8-9d53-b34d9e491875",
   "metadata": {},
   "outputs": [],
   "source": [
    "# apply square\n",
    "foundations.square(fibonacci)"
   ]
  },
  {
   "cell_type": "code",
   "execution_count": null,
   "id": "e0e786a9-a2ac-4247-b103-826bfd524e75",
   "metadata": {},
   "outputs": [],
   "source": [
    "# apply ReLU\n",
    "foundations.leaky_relu(fibonacci)"
   ]
  },
  {
   "cell_type": "markdown",
   "id": "e50ae10d-fa6a-40d9-9270-5cf44654f0eb",
   "metadata": {},
   "source": [
    "### Derivatives: Introduction\n",
    "What the book shows is ultimately an *approximate* method for finding the derivative of a given function. The formula put forth by the book is shown below and implemented in the `deriv` function:\n",
    "\n",
    "$$\n",
    "\\frac{df}{du}(a) = \\lim_{\\Delta\\to0} \\frac{f(a + \\Delta) - f(a - \\Delta)}{2\\Delta}\n",
    "$$\n",
    "\n",
    "This could have also been approximated as:\n",
    "\n",
    "$$\n",
    "f'(a) = \\lim_{h\\to0} \\frac{f(a + h) - f(h)}{h}\n",
    "$$\n",
    "\n",
    "The first *derivative* we will calculate is the *squaring function*:\n",
    "\n",
    "$$\n",
    "f(x) = x^2\n",
    "\\\\\n",
    "f'(x) = 2x\n",
    "$$\n",
    "\n",
    "We should expect the values to simply be doubled ..."
   ]
  },
  {
   "cell_type": "code",
   "execution_count": null,
   "id": "73c00e3e-f3fe-4e11-8680-af56e4f1cdfe",
   "metadata": {},
   "outputs": [],
   "source": [
    "# square derivative\n",
    "foundations.deriv(foundations.square, fibonacci)"
   ]
  },
  {
   "cell_type": "markdown",
   "id": "5d41f222-a982-4044-9d49-fc2d9adff72a",
   "metadata": {},
   "source": [
    "... and they are! Now the *leaky ReLU*:\n",
    "\n",
    "$$\n",
    "f(x) = \n",
    "\\begin{cases}\n",
    "    x               & \\text{if } x > 0, \\\\\n",
    "    0.02x           & \\text{otherwise}\n",
    "\\end{cases}\n",
    "\\\\\n",
    "f'(x) = \n",
    "\\begin{cases}\n",
    "    1               & \\text{if } x > 0, \\\\\n",
    "    0.02            & \\text{otherwise}\n",
    "\\end{cases}\n",
    "$$"
   ]
  },
  {
   "cell_type": "code",
   "execution_count": null,
   "id": "7e97fba6-1ab8-4c52-ad26-c4439aa8dcdf",
   "metadata": {},
   "outputs": [],
   "source": [
    "# ReLU derivative\n",
    "foundations.deriv(foundations.leaky_relu, fibonacci)"
   ]
  },
  {
   "cell_type": "markdown",
   "id": "59dd44bd-530d-4510-96d7-73ff9285c978",
   "metadata": {},
   "source": [
    "### Derivatives: Chain Rule\n",
    "The *chain rule* in *differential calculus* is ultimately simple. Given two functions $g(u)$ and $f(x)$ that are composed as\n",
    "follows:\n",
    "\n",
    "$$\n",
    "u = f(x)\n",
    "\\\\\n",
    "y = g(u)\n",
    "\\\\\n",
    "y = g(f(x))\n",
    "$$\n",
    "\n",
    "We can find the derivative of thier *composition* as a consequence of the following simple relation:\n",
    "\n",
    "$$\n",
    "\\frac{dy}{dx} = \\frac{dy}{du} \\cdot \\frac{du}{dx}\n",
    "\\\\\n",
    "\\frac{du}{dx} = f'(x)\n",
    "\\\\\n",
    "\\frac{dy}{du} = g'(u)\n",
    "\\\\\n",
    "\\frac{dy}{dx} = g'(f(x)) \\cdot f'(x)\n",
    "$$"
   ]
  }
 ],
 "metadata": {
  "kernelspec": {
   "display_name": "Python 3 (ipykernel)",
   "language": "python",
   "name": "python3"
  },
  "language_info": {
   "codemirror_mode": {
    "name": "ipython",
    "version": 3
   },
   "file_extension": ".py",
   "mimetype": "text/x-python",
   "name": "python",
   "nbconvert_exporter": "python",
   "pygments_lexer": "ipython3",
   "version": "3.9.7"
  }
 },
 "nbformat": 4,
 "nbformat_minor": 5
}
